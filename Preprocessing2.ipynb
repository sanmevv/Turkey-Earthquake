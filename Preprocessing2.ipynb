{
  "nbformat": 4,
  "nbformat_minor": 0,
  "metadata": {
    "colab": {
      "provenance": [],
      "include_colab_link": true
    },
    "kernelspec": {
      "name": "python3",
      "display_name": "Python 3"
    },
    "language_info": {
      "name": "python"
    }
  },
  "cells": [
    {
      "cell_type": "markdown",
      "metadata": {
        "id": "view-in-github",
        "colab_type": "text"
      },
      "source": [
        "<a href=\"https://colab.research.google.com/github/sanmevv/Turkey-Earthquake-NLP-ML/blob/main/Preprocessing2.ipynb\" target=\"_parent\"><img src=\"https://colab.research.google.com/assets/colab-badge.svg\" alt=\"Open In Colab\"/></a>"
      ]
    },
    {
      "cell_type": "code",
      "execution_count": 1,
      "metadata": {
        "id": "aO5xxbJM7EUa",
        "colab": {
          "base_uri": "https://localhost:8080/"
        },
        "outputId": "58e87678-2c6b-4038-8ffc-3f2f8e89b595"
      },
      "outputs": [
        {
          "output_type": "stream",
          "name": "stdout",
          "text": [
            "\u001b[2K     \u001b[90m━━━━━━━━━━━━━━━━━━━━━━━━━━━━━━━━━━━━━━\u001b[0m \u001b[32m481.8/481.8 kB\u001b[0m \u001b[31m18.6 MB/s\u001b[0m eta \u001b[36m0:00:00\u001b[0m\n",
            "\u001b[2K     \u001b[90m━━━━━━━━━━━━━━━━━━━━━━━━━━━━━━━━━━━━━━━━\u001b[0m \u001b[32m79.9/79.9 MB\u001b[0m \u001b[31m11.8 MB/s\u001b[0m eta \u001b[36m0:00:00\u001b[0m\n",
            "\u001b[2K     \u001b[90m━━━━━━━━━━━━━━━━━━━━━━━━━━━━━━━━━━━━━━━\u001b[0m \u001b[32m105.8/105.8 kB\u001b[0m \u001b[31m6.5 MB/s\u001b[0m eta \u001b[36m0:00:00\u001b[0m\n",
            "\u001b[2K     \u001b[90m━━━━━━━━━━━━━━━━━━━━━━━━━━━━━━━━━━━━━━━\u001b[0m \u001b[32m150.0/150.0 kB\u001b[0m \u001b[31m9.1 MB/s\u001b[0m eta \u001b[36m0:00:00\u001b[0m\n",
            "\u001b[?25h  Preparing metadata (setup.py) ... \u001b[?25l\u001b[?25hdone\n",
            "\u001b[2K     \u001b[90m━━━━━━━━━━━━━━━━━━━━━━━━━━━━━━━━━━━━━━━━\u001b[0m \u001b[32m45.8/45.8 kB\u001b[0m \u001b[31m3.6 MB/s\u001b[0m eta \u001b[36m0:00:00\u001b[0m\n",
            "\u001b[?25h  Installing build dependencies ... \u001b[?25l\u001b[?25hdone\n",
            "  Getting requirements to build wheel ... \u001b[?25l\u001b[?25hdone\n",
            "  Preparing metadata (pyproject.toml) ... \u001b[?25l\u001b[?25hdone\n",
            "\u001b[33m  WARNING: Requested plotly-resampler>=0.8.3.1 from https://files.pythonhosted.org/packages/d7/5e/71a9e34a36c1855d0c4e30a88405d58c4bbbe7ece802b188628a643f2cda/plotly_resampler-0.8.4rc1.tar.gz (from pycaret), but installing version 0.8.4rc1\u001b[0m\u001b[33m\n",
            "\u001b[2K     \u001b[90m━━━━━━━━━━━━━━━━━━━━━━━━━━━━━━━━━━━━━━━\u001b[0m \u001b[32m81.2/81.2 kB\u001b[0m \u001b[31m972.0 kB/s\u001b[0m eta \u001b[36m0:00:00\u001b[0m\n",
            "\u001b[2K     \u001b[90m━━━━━━━━━━━━━━━━━━━━━━━━━━━━━━━━━━━━━━\u001b[0m \u001b[32m212.2/212.2 kB\u001b[0m \u001b[31m27.5 MB/s\u001b[0m eta \u001b[36m0:00:00\u001b[0m\n",
            "\u001b[2K     \u001b[90m━━━━━━━━━━━━━━━━━━━━━━━━━━━━━━━━━━━━━━━━\u001b[0m \u001b[32m1.9/1.9 MB\u001b[0m \u001b[31m78.2 MB/s\u001b[0m eta \u001b[36m0:00:00\u001b[0m\n",
            "\u001b[2K     \u001b[90m━━━━━━━━━━━━━━━━━━━━━━━━━━━━━━━━━━━━━━━━\u001b[0m \u001b[32m43.8/43.8 kB\u001b[0m \u001b[31m6.1 MB/s\u001b[0m eta \u001b[36m0:00:00\u001b[0m\n",
            "\u001b[2K     \u001b[90m━━━━━━━━━━━━━━━━━━━━━━━━━━━━━━━━━━━━━━━━\u001b[0m \u001b[32m16.1/16.1 MB\u001b[0m \u001b[31m57.8 MB/s\u001b[0m eta \u001b[36m0:00:00\u001b[0m\n",
            "\u001b[2K     \u001b[90m━━━━━━━━━━━━━━━━━━━━━━━━━━━━━━━━━━━━━━━━\u001b[0m \u001b[32m1.6/1.6 MB\u001b[0m \u001b[31m76.5 MB/s\u001b[0m eta \u001b[36m0:00:00\u001b[0m\n",
            "\u001b[2K     \u001b[90m━━━━━━━━━━━━━━━━━━━━━━━━━━━━━━━━━━━━━━━\u001b[0m \u001b[32m140.5/140.5 kB\u001b[0m \u001b[31m9.4 MB/s\u001b[0m eta \u001b[36m0:00:00\u001b[0m\n",
            "\u001b[2K     \u001b[90m━━━━━━━━━━━━━━━━━━━━━━━━━━━━━━━━━━━━━━\u001b[0m \u001b[32m185.2/185.2 kB\u001b[0m \u001b[31m18.6 MB/s\u001b[0m eta \u001b[36m0:00:00\u001b[0m\n",
            "\u001b[2K     \u001b[90m━━━━━━━━━━━━━━━━━━━━━━━━━━━━━━━━━━━━━━━━\u001b[0m \u001b[32m10.2/10.2 MB\u001b[0m \u001b[31m66.1 MB/s\u001b[0m eta \u001b[36m0:00:00\u001b[0m\n",
            "\u001b[2K     \u001b[90m━━━━━━━━━━━━━━━━━━━━━━━━━━━━━━━━━━━━━━\u001b[0m \u001b[32m224.9/224.9 kB\u001b[0m \u001b[31m19.2 MB/s\u001b[0m eta \u001b[36m0:00:00\u001b[0m\n",
            "\u001b[2K     \u001b[90m━━━━━━━━━━━━━━━━━━━━━━━━━━━━━━━━━━━━━━\u001b[0m \u001b[32m101.5/101.5 kB\u001b[0m \u001b[31m13.9 MB/s\u001b[0m eta \u001b[36m0:00:00\u001b[0m\n",
            "\u001b[2K     \u001b[90m━━━━━━━━━━━━━━━━━━━━━━━━━━━━━━━━━━━━━━\u001b[0m \u001b[32m101.5/101.5 kB\u001b[0m \u001b[31m15.9 MB/s\u001b[0m eta \u001b[36m0:00:00\u001b[0m\n",
            "\u001b[2K     \u001b[90m━━━━━━━━━━━━━━━━━━━━━━━━━━━━━━━━━━━━━━\u001b[0m \u001b[32m101.1/101.1 kB\u001b[0m \u001b[31m15.7 MB/s\u001b[0m eta \u001b[36m0:00:00\u001b[0m\n",
            "\u001b[2K     \u001b[90m━━━━━━━━━━━━━━━━━━━━━━━━━━━━━━━━━━━━━━━━\u001b[0m \u001b[32m95.6/95.6 kB\u001b[0m \u001b[31m14.1 MB/s\u001b[0m eta \u001b[36m0:00:00\u001b[0m\n",
            "\u001b[?25h  Building wheel for plotly-resampler (pyproject.toml) ... \u001b[?25l\u001b[?25hdone\n",
            "  Building wheel for pyod (setup.py) ... \u001b[?25l\u001b[?25hdone\n"
          ]
        }
      ],
      "source": [
        "!pip install -q -U --pre pycaret"
      ]
    },
    {
      "cell_type": "code",
      "source": [
        "import pandas as pd\n",
        "\n",
        "import matplotlib.pyplot as plt\n",
        "from collections import Counter\n",
        "import re\n",
        "\n",
        "from sklearn.model_selection import train_test_split\n",
        "\n",
        "from pycaret.classification import *\n",
        "\n",
        "from imblearn.over_sampling import SMOTE"
      ],
      "metadata": {
        "id": "MNIerUwa7dvI"
      },
      "execution_count": 2,
      "outputs": []
    },
    {
      "cell_type": "code",
      "source": [
        "from google.colab import drive\n",
        "drive.mount('/content/drive')"
      ],
      "metadata": {
        "colab": {
          "base_uri": "https://localhost:8080/"
        },
        "id": "hdZJawuCeLKR",
        "outputId": "4009b6a3-1ea0-4ad1-de66-0e185dc0b773"
      },
      "execution_count": 3,
      "outputs": [
        {
          "output_type": "stream",
          "name": "stdout",
          "text": [
            "Mounted at /content/drive\n"
          ]
        }
      ]
    },
    {
      "cell_type": "code",
      "source": [
        "import pandas as pd\n",
        "\n",
        "data = pd.read_csv('/content/drive/MyDrive/data.csv')"
      ],
      "metadata": {
        "id": "jPiahQO47lOM"
      },
      "execution_count": 144,
      "outputs": []
    },
    {
      "cell_type": "code",
      "source": [
        "data.head()"
      ],
      "metadata": {
        "colab": {
          "base_uri": "https://localhost:8080/",
          "height": 634
        },
        "id": "GGyPMy2E7oaJ",
        "outputId": "50c5c1c4-75c3-489f-967f-e9597c0af641"
      },
      "execution_count": 145,
      "outputs": [
        {
          "output_type": "execute_result",
          "data": {
            "text/plain": [
              "   Unnamed: 0             Tweet_id                 Date  \\\n",
              "0           0  1644584329463361536  2023-04-08 06:13:53   \n",
              "1           1  1644584192288735234  2023-04-08 06:13:20   \n",
              "2           2  1644584189789089792  2023-04-08 06:13:20   \n",
              "3           3  1644584158218313729  2023-04-08 06:13:12   \n",
              "4           4  1644583869956648960  2023-04-08 06:12:04   \n",
              "\n",
              "                                               Tweet               Source  \\\n",
              "0  Date and time (UTC): 04/08/2023 08:03:11 AM\\nM...      Twitter Web App   \n",
              "1  #Earthquake (#地震) M3.8 strikes 26 km NW of #Sa...  Twitter for Android   \n",
              "2  @Bergermeister23 Its a MEGA - Massive Earthqua...      Twitter Web App   \n",
              "3  @_teawithtiff Lmao nah fr they go HARD and nee...   Twitter for iPhone   \n",
              "4                                      89 Earthquake   Twitter for iPhone   \n",
              "\n",
              "  Language       User_id Location  \\\n",
              "0       en  1.001341e+18    Egypt   \n",
              "1       en  1.376006e+18   México   \n",
              "2       en  1.510219e+18      NaN   \n",
              "3       en  2.460890e+08      NaN   \n",
              "4       en  7.928967e+17      NaN   \n",
              "\n",
              "                                            Acctdesc  Replies  Retweets  \\\n",
              "0  Gathering and tweeting the most recent earthqu...      0.0       0.0   \n",
              "1  Información al instante, reportes sismicos, no...      0.0       0.0   \n",
              "2                                                NaN      0.0       0.0   \n",
              "3  Poet 📝 |BLACK AF | RIP MOM & DAD 💔💜✨🙏🏿|Mental ...      0.0       0.0   \n",
              "4                       do my own stunts | thetable.      0.0       0.0   \n",
              "\n",
              "   Likes                                      Hashtags  Following  Followers  \\\n",
              "0    0.0  ['#earthquake', '#USGS', '#CA', '#StaySafe']      160.0       40.0   \n",
              "1    0.0  ['#Earthquake', '#地震', '#Saitama', '#Japan']     1432.0      979.0   \n",
              "2    0.0                                            []      177.0      100.0   \n",
              "3    0.0                                            []     3197.0     4285.0   \n",
              "4    0.0                                            []      460.0      528.0   \n",
              "\n",
              "   Total_tweets                                                Url  Target  \\\n",
              "0          95.0  https://twitter.com/Iwillsolo/status/164458432...    True   \n",
              "1       60472.0  https://twitter.com/Edgaroficial02/status/1644...    True   \n",
              "2       20299.0  https://twitter.com/TUAtwit/status/16445841897...    True   \n",
              "3      103515.0  https://twitter.com/EarthQuake_HK15/status/164...   False   \n",
              "4       33489.0  https://twitter.com/itsblanc0baby/status/16445...    True   \n",
              "\n",
              "  Username  \n",
              "0      NaN  \n",
              "1      NaN  \n",
              "2      NaN  \n",
              "3      NaN  \n",
              "4      NaN  "
            ],
            "text/html": [
              "\n",
              "  <div id=\"df-6f3a19de-5858-4ea4-b4ad-40c3a82e046c\">\n",
              "    <div class=\"colab-df-container\">\n",
              "      <div>\n",
              "<style scoped>\n",
              "    .dataframe tbody tr th:only-of-type {\n",
              "        vertical-align: middle;\n",
              "    }\n",
              "\n",
              "    .dataframe tbody tr th {\n",
              "        vertical-align: top;\n",
              "    }\n",
              "\n",
              "    .dataframe thead th {\n",
              "        text-align: right;\n",
              "    }\n",
              "</style>\n",
              "<table border=\"1\" class=\"dataframe\">\n",
              "  <thead>\n",
              "    <tr style=\"text-align: right;\">\n",
              "      <th></th>\n",
              "      <th>Unnamed: 0</th>\n",
              "      <th>Tweet_id</th>\n",
              "      <th>Date</th>\n",
              "      <th>Tweet</th>\n",
              "      <th>Source</th>\n",
              "      <th>Language</th>\n",
              "      <th>User_id</th>\n",
              "      <th>Location</th>\n",
              "      <th>Acctdesc</th>\n",
              "      <th>Replies</th>\n",
              "      <th>Retweets</th>\n",
              "      <th>Likes</th>\n",
              "      <th>Hashtags</th>\n",
              "      <th>Following</th>\n",
              "      <th>Followers</th>\n",
              "      <th>Total_tweets</th>\n",
              "      <th>Url</th>\n",
              "      <th>Target</th>\n",
              "      <th>Username</th>\n",
              "    </tr>\n",
              "  </thead>\n",
              "  <tbody>\n",
              "    <tr>\n",
              "      <th>0</th>\n",
              "      <td>0</td>\n",
              "      <td>1644584329463361536</td>\n",
              "      <td>2023-04-08 06:13:53</td>\n",
              "      <td>Date and time (UTC): 04/08/2023 08:03:11 AM\\nM...</td>\n",
              "      <td>Twitter Web App</td>\n",
              "      <td>en</td>\n",
              "      <td>1.001341e+18</td>\n",
              "      <td>Egypt</td>\n",
              "      <td>Gathering and tweeting the most recent earthqu...</td>\n",
              "      <td>0.0</td>\n",
              "      <td>0.0</td>\n",
              "      <td>0.0</td>\n",
              "      <td>['#earthquake', '#USGS', '#CA', '#StaySafe']</td>\n",
              "      <td>160.0</td>\n",
              "      <td>40.0</td>\n",
              "      <td>95.0</td>\n",
              "      <td>https://twitter.com/Iwillsolo/status/164458432...</td>\n",
              "      <td>True</td>\n",
              "      <td>NaN</td>\n",
              "    </tr>\n",
              "    <tr>\n",
              "      <th>1</th>\n",
              "      <td>1</td>\n",
              "      <td>1644584192288735234</td>\n",
              "      <td>2023-04-08 06:13:20</td>\n",
              "      <td>#Earthquake (#地震) M3.8 strikes 26 km NW of #Sa...</td>\n",
              "      <td>Twitter for Android</td>\n",
              "      <td>en</td>\n",
              "      <td>1.376006e+18</td>\n",
              "      <td>México</td>\n",
              "      <td>Información al instante, reportes sismicos, no...</td>\n",
              "      <td>0.0</td>\n",
              "      <td>0.0</td>\n",
              "      <td>0.0</td>\n",
              "      <td>['#Earthquake', '#地震', '#Saitama', '#Japan']</td>\n",
              "      <td>1432.0</td>\n",
              "      <td>979.0</td>\n",
              "      <td>60472.0</td>\n",
              "      <td>https://twitter.com/Edgaroficial02/status/1644...</td>\n",
              "      <td>True</td>\n",
              "      <td>NaN</td>\n",
              "    </tr>\n",
              "    <tr>\n",
              "      <th>2</th>\n",
              "      <td>2</td>\n",
              "      <td>1644584189789089792</td>\n",
              "      <td>2023-04-08 06:13:20</td>\n",
              "      <td>@Bergermeister23 Its a MEGA - Massive Earthqua...</td>\n",
              "      <td>Twitter Web App</td>\n",
              "      <td>en</td>\n",
              "      <td>1.510219e+18</td>\n",
              "      <td>NaN</td>\n",
              "      <td>NaN</td>\n",
              "      <td>0.0</td>\n",
              "      <td>0.0</td>\n",
              "      <td>0.0</td>\n",
              "      <td>[]</td>\n",
              "      <td>177.0</td>\n",
              "      <td>100.0</td>\n",
              "      <td>20299.0</td>\n",
              "      <td>https://twitter.com/TUAtwit/status/16445841897...</td>\n",
              "      <td>True</td>\n",
              "      <td>NaN</td>\n",
              "    </tr>\n",
              "    <tr>\n",
              "      <th>3</th>\n",
              "      <td>3</td>\n",
              "      <td>1644584158218313729</td>\n",
              "      <td>2023-04-08 06:13:12</td>\n",
              "      <td>@_teawithtiff Lmao nah fr they go HARD and nee...</td>\n",
              "      <td>Twitter for iPhone</td>\n",
              "      <td>en</td>\n",
              "      <td>2.460890e+08</td>\n",
              "      <td>NaN</td>\n",
              "      <td>Poet 📝 |BLACK AF | RIP MOM &amp; DAD 💔💜✨🙏🏿|Mental ...</td>\n",
              "      <td>0.0</td>\n",
              "      <td>0.0</td>\n",
              "      <td>0.0</td>\n",
              "      <td>[]</td>\n",
              "      <td>3197.0</td>\n",
              "      <td>4285.0</td>\n",
              "      <td>103515.0</td>\n",
              "      <td>https://twitter.com/EarthQuake_HK15/status/164...</td>\n",
              "      <td>False</td>\n",
              "      <td>NaN</td>\n",
              "    </tr>\n",
              "    <tr>\n",
              "      <th>4</th>\n",
              "      <td>4</td>\n",
              "      <td>1644583869956648960</td>\n",
              "      <td>2023-04-08 06:12:04</td>\n",
              "      <td>89 Earthquake</td>\n",
              "      <td>Twitter for iPhone</td>\n",
              "      <td>en</td>\n",
              "      <td>7.928967e+17</td>\n",
              "      <td>NaN</td>\n",
              "      <td>do my own stunts | thetable.</td>\n",
              "      <td>0.0</td>\n",
              "      <td>0.0</td>\n",
              "      <td>0.0</td>\n",
              "      <td>[]</td>\n",
              "      <td>460.0</td>\n",
              "      <td>528.0</td>\n",
              "      <td>33489.0</td>\n",
              "      <td>https://twitter.com/itsblanc0baby/status/16445...</td>\n",
              "      <td>True</td>\n",
              "      <td>NaN</td>\n",
              "    </tr>\n",
              "  </tbody>\n",
              "</table>\n",
              "</div>\n",
              "      <button class=\"colab-df-convert\" onclick=\"convertToInteractive('df-6f3a19de-5858-4ea4-b4ad-40c3a82e046c')\"\n",
              "              title=\"Convert this dataframe to an interactive table.\"\n",
              "              style=\"display:none;\">\n",
              "        \n",
              "  <svg xmlns=\"http://www.w3.org/2000/svg\" height=\"24px\"viewBox=\"0 0 24 24\"\n",
              "       width=\"24px\">\n",
              "    <path d=\"M0 0h24v24H0V0z\" fill=\"none\"/>\n",
              "    <path d=\"M18.56 5.44l.94 2.06.94-2.06 2.06-.94-2.06-.94-.94-2.06-.94 2.06-2.06.94zm-11 1L8.5 8.5l.94-2.06 2.06-.94-2.06-.94L8.5 2.5l-.94 2.06-2.06.94zm10 10l.94 2.06.94-2.06 2.06-.94-2.06-.94-.94-2.06-.94 2.06-2.06.94z\"/><path d=\"M17.41 7.96l-1.37-1.37c-.4-.4-.92-.59-1.43-.59-.52 0-1.04.2-1.43.59L10.3 9.45l-7.72 7.72c-.78.78-.78 2.05 0 2.83L4 21.41c.39.39.9.59 1.41.59.51 0 1.02-.2 1.41-.59l7.78-7.78 2.81-2.81c.8-.78.8-2.07 0-2.86zM5.41 20L4 18.59l7.72-7.72 1.47 1.35L5.41 20z\"/>\n",
              "  </svg>\n",
              "      </button>\n",
              "      \n",
              "  <style>\n",
              "    .colab-df-container {\n",
              "      display:flex;\n",
              "      flex-wrap:wrap;\n",
              "      gap: 12px;\n",
              "    }\n",
              "\n",
              "    .colab-df-convert {\n",
              "      background-color: #E8F0FE;\n",
              "      border: none;\n",
              "      border-radius: 50%;\n",
              "      cursor: pointer;\n",
              "      display: none;\n",
              "      fill: #1967D2;\n",
              "      height: 32px;\n",
              "      padding: 0 0 0 0;\n",
              "      width: 32px;\n",
              "    }\n",
              "\n",
              "    .colab-df-convert:hover {\n",
              "      background-color: #E2EBFA;\n",
              "      box-shadow: 0px 1px 2px rgba(60, 64, 67, 0.3), 0px 1px 3px 1px rgba(60, 64, 67, 0.15);\n",
              "      fill: #174EA6;\n",
              "    }\n",
              "\n",
              "    [theme=dark] .colab-df-convert {\n",
              "      background-color: #3B4455;\n",
              "      fill: #D2E3FC;\n",
              "    }\n",
              "\n",
              "    [theme=dark] .colab-df-convert:hover {\n",
              "      background-color: #434B5C;\n",
              "      box-shadow: 0px 1px 3px 1px rgba(0, 0, 0, 0.15);\n",
              "      filter: drop-shadow(0px 1px 2px rgba(0, 0, 0, 0.3));\n",
              "      fill: #FFFFFF;\n",
              "    }\n",
              "  </style>\n",
              "\n",
              "      <script>\n",
              "        const buttonEl =\n",
              "          document.querySelector('#df-6f3a19de-5858-4ea4-b4ad-40c3a82e046c button.colab-df-convert');\n",
              "        buttonEl.style.display =\n",
              "          google.colab.kernel.accessAllowed ? 'block' : 'none';\n",
              "\n",
              "        async function convertToInteractive(key) {\n",
              "          const element = document.querySelector('#df-6f3a19de-5858-4ea4-b4ad-40c3a82e046c');\n",
              "          const dataTable =\n",
              "            await google.colab.kernel.invokeFunction('convertToInteractive',\n",
              "                                                     [key], {});\n",
              "          if (!dataTable) return;\n",
              "\n",
              "          const docLinkHtml = 'Like what you see? Visit the ' +\n",
              "            '<a target=\"_blank\" href=https://colab.research.google.com/notebooks/data_table.ipynb>data table notebook</a>'\n",
              "            + ' to learn more about interactive tables.';\n",
              "          element.innerHTML = '';\n",
              "          dataTable['output_type'] = 'display_data';\n",
              "          await google.colab.output.renderOutput(dataTable, element);\n",
              "          const docLink = document.createElement('div');\n",
              "          docLink.innerHTML = docLinkHtml;\n",
              "          element.appendChild(docLink);\n",
              "        }\n",
              "      </script>\n",
              "    </div>\n",
              "  </div>\n",
              "  "
            ]
          },
          "metadata": {},
          "execution_count": 145
        }
      ]
    },
    {
      "cell_type": "code",
      "source": [
        "data.info()"
      ],
      "metadata": {
        "colab": {
          "base_uri": "https://localhost:8080/"
        },
        "id": "_U4LsW7Q8MMo",
        "outputId": "120de5c1-df5f-432b-f01d-4b1235ec6ce7"
      },
      "execution_count": 146,
      "outputs": [
        {
          "output_type": "stream",
          "name": "stdout",
          "text": [
            "<class 'pandas.core.frame.DataFrame'>\n",
            "RangeIndex: 629860 entries, 0 to 629859\n",
            "Data columns (total 19 columns):\n",
            " #   Column        Non-Null Count   Dtype  \n",
            "---  ------        --------------   -----  \n",
            " 0   Unnamed: 0    629860 non-null  int64  \n",
            " 1   Tweet_id      629859 non-null  object \n",
            " 2   Date          629859 non-null  object \n",
            " 3   Tweet         629857 non-null  object \n",
            " 4   Source        629854 non-null  object \n",
            " 5   Language      629854 non-null  object \n",
            " 6   User_id       629854 non-null  float64\n",
            " 7   Location      418397 non-null  object \n",
            " 8   Acctdesc      551690 non-null  object \n",
            " 9   Replies       629517 non-null  float64\n",
            " 10  Retweets      629517 non-null  float64\n",
            " 11  Likes         629517 non-null  float64\n",
            " 12  Hashtags      629517 non-null  object \n",
            " 13  Following     629513 non-null  float64\n",
            " 14  Followers     629513 non-null  float64\n",
            " 15  Total_tweets  629513 non-null  float64\n",
            " 16  Url           629513 non-null  object \n",
            " 17  Target        629860 non-null  bool   \n",
            " 18  Username      92810 non-null   object \n",
            "dtypes: bool(1), float64(7), int64(1), object(10)\n",
            "memory usage: 87.1+ MB\n"
          ]
        }
      ]
    },
    {
      "cell_type": "code",
      "source": [
        "data = data.drop(columns=['Unnamed: 0'])\n"
      ],
      "metadata": {
        "id": "j55F6GeWesOG"
      },
      "execution_count": 147,
      "outputs": []
    },
    {
      "cell_type": "code",
      "source": [
        "data.isna().any()"
      ],
      "metadata": {
        "colab": {
          "base_uri": "https://localhost:8080/"
        },
        "id": "MF4Zlxo78NEi",
        "outputId": "586cb2ff-c18c-4a28-dea6-1e7f491ff011"
      },
      "execution_count": 148,
      "outputs": [
        {
          "output_type": "execute_result",
          "data": {
            "text/plain": [
              "Tweet_id         True\n",
              "Date             True\n",
              "Tweet            True\n",
              "Source           True\n",
              "Language         True\n",
              "User_id          True\n",
              "Location         True\n",
              "Acctdesc         True\n",
              "Replies          True\n",
              "Retweets         True\n",
              "Likes            True\n",
              "Hashtags         True\n",
              "Following        True\n",
              "Followers        True\n",
              "Total_tweets     True\n",
              "Url              True\n",
              "Target          False\n",
              "Username         True\n",
              "dtype: bool"
            ]
          },
          "metadata": {},
          "execution_count": 148
        }
      ]
    },
    {
      "cell_type": "code",
      "source": [
        "import re\n",
        "import string"
      ],
      "metadata": {
        "id": "nNMWRlMQ8Puo"
      },
      "execution_count": 149,
      "outputs": []
    },
    {
      "cell_type": "code",
      "source": [
        "#Preprocessing Function\n",
        "def preprocess_text(text):\n",
        "    # Remove URLs\n",
        "    text = re.sub(r'http\\S+', '', text)\n",
        "\n",
        "    # Remove mentions and hashtags\n",
        "    text = re.sub(r'@\\w+|#\\w+', '', text)\n",
        "\n",
        "    # Remove punctuation and convert to lowercase\n",
        "    text = text.translate(str.maketrans('', '', string.punctuation)).lower()\n",
        "\n",
        "    # Remove extra whitespace\n",
        "    text = re.sub('\\s+', ' ', text).strip()\n",
        "\n",
        "    return text"
      ],
      "metadata": {
        "id": "IRhP2qW78Uyr"
      },
      "execution_count": 150,
      "outputs": []
    },
    {
      "cell_type": "code",
      "source": [
        "import re\n",
        "\n",
        "def preprocess_text(text):\n",
        "    if isinstance(text, str):\n",
        "        # apply regular expressions and other string operations\n",
        "        text = re.sub(r'[^\\w\\s]', '', text)  # remove punctuation\n",
        "        text = re.sub(r'\\d+', '', text)  # remove digits\n",
        "        text = text.lower()  # convert to lowercase\n",
        "        text = text.strip()  # remove leading/trailing whitespaces\n",
        "        return text\n",
        "    else:\n",
        "        # handle cases where input is not a string (e.g., missing values)\n",
        "        return ''\n"
      ],
      "metadata": {
        "id": "wQXoQyFO9fC7"
      },
      "execution_count": 151,
      "outputs": []
    },
    {
      "cell_type": "code",
      "source": [
        "if data['Tweet'].dtype != 'object':\n",
        "    data['Tweet'] = data['Tweet'].astype(str)\n"
      ],
      "metadata": {
        "id": "6Fczi9SX8teq"
      },
      "execution_count": 152,
      "outputs": []
    },
    {
      "cell_type": "code",
      "source": [
        "data['Tweet'] = data['Tweet'].apply(preprocess_text)"
      ],
      "metadata": {
        "id": "sOGO41xD8bx7"
      },
      "execution_count": 153,
      "outputs": []
    },
    {
      "cell_type": "markdown",
      "source": [
        "Commonly Used Words"
      ],
      "metadata": {
        "id": "iJsiWhW8cr4V"
      }
    },
    {
      "cell_type": "code",
      "source": [
        "\n",
        "import pandas as pd\n",
        "import matplotlib.pyplot as plt\n",
        "from collections import Counter\n",
        "import re\n",
        "\n",
        "import nltk\n",
        "from nltk.corpus import stopwords"
      ],
      "metadata": {
        "id": "luhBWM-m8d19"
      },
      "execution_count": 154,
      "outputs": []
    },
    {
      "cell_type": "code",
      "source": [
        "# Concatenate all tweet texts into a single string\n",
        "all_text = ' '.join(data['Tweet'].values)"
      ],
      "metadata": {
        "id": "rAuJMK1Z9p7S"
      },
      "execution_count": 155,
      "outputs": []
    },
    {
      "cell_type": "code",
      "source": [
        "# Remove URLs, mentions, and hashtags from the text\n",
        "all_text = re.sub(r'http\\S+', '', all_text)\n",
        "all_text = re.sub(r'@\\S+', '', all_text)\n",
        "all_text = re.sub(r'#\\S+', '', all_text)"
      ],
      "metadata": {
        "id": "QghVZTTb9vRh"
      },
      "execution_count": 156,
      "outputs": []
    },
    {
      "cell_type": "code",
      "source": [
        "# Split the text into individual words\n",
        "words = all_text.split()"
      ],
      "metadata": {
        "id": "EpD9TzC99zZB"
      },
      "execution_count": 157,
      "outputs": []
    },
    {
      "cell_type": "markdown",
      "source": [
        "Remove stop words"
      ],
      "metadata": {
        "id": "yaD8N9tdcvGr"
      }
    },
    {
      "cell_type": "code",
      "source": [
        "import nltk\n",
        "nltk.download('stopwords')\n",
        "stop_words = set(stopwords.words('english'))\n",
        "words = [word for word in words if not word in stop_words]"
      ],
      "metadata": {
        "colab": {
          "base_uri": "https://localhost:8080/"
        },
        "id": "HBWSlbXR91uy",
        "outputId": "2300ca6a-7b85-4c14-9728-f07cc9fcd80e"
      },
      "execution_count": 158,
      "outputs": [
        {
          "output_type": "stream",
          "name": "stderr",
          "text": [
            "[nltk_data] Downloading package stopwords to /root/nltk_data...\n",
            "[nltk_data]   Package stopwords is already up-to-date!\n"
          ]
        }
      ]
    },
    {
      "cell_type": "code",
      "source": [
        "# Count the frequency of each word\n",
        "word_counts = Counter(words)"
      ],
      "metadata": {
        "id": "k9pWGsZq-FHv"
      },
      "execution_count": 159,
      "outputs": []
    },
    {
      "cell_type": "code",
      "source": [
        "top_words = word_counts.most_common(100)\n",
        "top_words"
      ],
      "metadata": {
        "colab": {
          "base_uri": "https://localhost:8080/"
        },
        "id": "ddgEAKHa-M3F",
        "outputId": "b9648e3e-1723-4e96-f6c1-953fa915c3b9"
      },
      "execution_count": 160,
      "outputs": [
        {
          "output_type": "execute_result",
          "data": {
            "text/plain": [
              "[('earthquake', 282340),\n",
              " ('football', 131470),\n",
              " ('turkey', 103280),\n",
              " ('kardashian', 68569),\n",
              " ('earthquakes', 49387),\n",
              " ('usa', 40938),\n",
              " ('ð', 37200),\n",
              " ('like', 37194),\n",
              " ('people', 36680),\n",
              " ('syria', 36035),\n",
              " ('km', 35562),\n",
              " ('kim', 35248),\n",
              " ('amp', 31982),\n",
              " ('magnitude', 30785),\n",
              " ('one', 26923),\n",
              " ('time', 22928),\n",
              " ('us', 22312),\n",
              " ('new', 21066),\n",
              " ('ago', 19483),\n",
              " ('get', 19392),\n",
              " ('game', 18836),\n",
              " ('know', 17718),\n",
              " ('would', 16128),\n",
              " ('see', 15685),\n",
              " ('good', 15103),\n",
              " ('dont', 14899),\n",
              " ('strikes', 14833),\n",
              " ('info', 14827),\n",
              " ('world', 14595),\n",
              " ('news', 14413),\n",
              " ('even', 13889),\n",
              " ('think', 13720),\n",
              " ('arsenal', 13703),\n",
              " ('min', 13654),\n",
              " ('utc', 13628),\n",
              " ('team', 13605),\n",
              " ('felt', 13169),\n",
              " ('â', 13117),\n",
              " ('help', 13104),\n",
              " ('pakistan', 12658),\n",
              " ('need', 12644),\n",
              " ('via', 12396),\n",
              " ('go', 12283),\n",
              " ('everyone', 12266),\n",
              " ('last', 12245),\n",
              " ('hit', 12233),\n",
              " ('today', 11946),\n",
              " ('victims', 11920),\n",
              " ('still', 11915),\n",
              " ('league', 11894),\n",
              " ('back', 11765),\n",
              " ('another', 11504),\n",
              " ('support', 11423),\n",
              " ('play', 11259),\n",
              " ('also', 11235),\n",
              " ('first', 10991),\n",
              " ('day', 10955),\n",
              " ('watch', 10712),\n",
              " ('make', 10588),\n",
              " ('itâs', 10487),\n",
              " ('im', 10449),\n",
              " ('many', 10339),\n",
              " ('two', 10296),\n",
              " ('deprem', 10255),\n",
              " ('allah', 10244),\n",
              " ('never', 10209),\n",
              " ('man', 10088),\n",
              " ('got', 10046),\n",
              " ('fans', 10012),\n",
              " ('hope', 9646),\n",
              " ('going', 9643),\n",
              " ('great', 9588),\n",
              " ('safe', 9586),\n",
              " ('reports', 9567),\n",
              " ('well', 9462),\n",
              " ('usgs', 9398),\n",
              " ('much', 9360),\n",
              " ('may', 9344),\n",
              " ('really', 9276),\n",
              " ('want', 9263),\n",
              " ('years', 9238),\n",
              " ('club', 9091),\n",
              " ('turkeysyria', 8999),\n",
              " ('love', 8975),\n",
              " ('could', 8971),\n",
              " ('every', 8893),\n",
              " ('said', 8883),\n",
              " ('ãâãâãâãâ', 8842),\n",
              " ('best', 8807),\n",
              " ('season', 8803),\n",
              " ('please', 8799),\n",
              " ('right', 8759),\n",
              " ('city', 8721),\n",
              " ('way', 8700),\n",
              " ('donât', 8547),\n",
              " ('say', 8516),\n",
              " ('big', 8214),\n",
              " ('live', 8137),\n",
              " ('liverpool', 8057),\n",
              " ('take', 8048)]"
            ]
          },
          "metadata": {},
          "execution_count": 160
        }
      ]
    },
    {
      "cell_type": "markdown",
      "source": [
        "Create a bar chart of the most common words"
      ],
      "metadata": {
        "id": "_SdPVLNXc3Rx"
      }
    },
    {
      "cell_type": "code",
      "source": [
        "top_words = word_counts.most_common(10) # Change the number to show more/less words\n",
        "x_values = [word[0] for word in top_words]\n",
        "y_values = [word[1] for word in top_words]\n",
        "plt.figure(figsize=(12, 6))\n",
        "plt.bar(x_values, y_values)\n",
        "plt.xlabel('Word')\n",
        "plt.ylabel('Frequency')\n",
        "plt.title('Most Commonly Used Words')\n",
        "plt.show()"
      ],
      "metadata": {
        "colab": {
          "base_uri": "https://localhost:8080/",
          "height": 562
        },
        "id": "GIzbaoHJ-O8x",
        "outputId": "6d44f0f0-bfc1-48c4-f1e0-67096b9a0472"
      },
      "execution_count": 161,
      "outputs": [
        {
          "output_type": "display_data",
          "data": {
            "text/plain": [
              "<Figure size 1200x600 with 1 Axes>"
            ],
            "image/png": "[encoded data removed]"
          },
          "metadata": {}
        }
      ]
    },
    {
      "cell_type": "markdown",
      "source": [
        "Creating Classes for Tweets:\n",
        "\n",
        "\"Help\": Tweets that express a need for assistance or ask for help, such as:\n",
        "\n",
        "\"We need supplies and shelter for the earthquake victims\"\n",
        "\n",
        "\"Please help those affected by the earthquake by donating to relief efforts\"\n",
        "\n",
        "\"News\": Tweets that share information about the earthquake or its aftermath, such as:\n",
        "\n",
        "\"Magnitude 6.8 earthquake strikes Turkey and Syria\"\n",
        "\n",
        "\"Rescue teams continue to search for survivors in the rubble\"\n",
        "\n",
        "\"Funding\": Tweets that promote or discuss fundraising efforts for earthquake relief, such as:\n",
        "\n",
        "\"Join our fundraising campaign to help those affected by the earthquake\"\n",
        "\n",
        "\"Which charities are accepting donations for the earthquake relief efforts?\"\n",
        "\n",
        "\"Survivor stories\": Tweets that share personal accounts or experiences of the earthquake, such as:\n",
        "\n",
        "\"I was in the middle of a meeting when the earthquake hit. It was the scariest moment of my life\"\n",
        "\n",
        "\"My family and I are safe, but our house was severely damaged in the earthquake\"\n",
        "\n",
        "\"Volunteering\": Tweets that promote or discuss volunteer efforts for earthquake relief, such as:\n",
        "\n",
        "\"We need volunteers to help with search and rescue operations in the affected areas\"\n",
        "\n",
        "\"If you want to help, consider volunteering at a local shelter or distribution center\"\n",
        "\n",
        "\"Political response\": Tweets that discuss the government or political response to the earthquake, such as:\n",
        "\n",
        "\"The government needs to do more to support the earthquake victims and rebuild the affected areas\"\n",
        "\n",
        "\"I'm disappointed in the lack of action from our elected officials regarding the earthquake relief efforts\"\n",
        "\n",
        "\"Humanitarian aid\": Tweets that discuss or promote humanitarian aid efforts for the earthquake, such as:\n",
        "\n",
        "\"The Red Cross is on the ground providing emergency relief to those affected by the earthquake\"\n",
        "\n",
        "\"International aid organizations are stepping up to help with the earthquake recovery efforts\"\n",
        "\n",
        "Safety information: Tweets that provide information about how to stay safe during or after the earthquake, such as:\n",
        "\n",
        "\"Remember to drop, cover, and hold on during an earthquake to protect yourself from falling objects\"\n",
        "\n",
        "\"Be careful of aftershocks and potential hazards like gas leaks and downed power lines\"\n",
        "\n",
        "Infrastructure damage: Tweets that describe the damage to buildings, roads, and other infrastructure caused by the earthquake, such as:\n",
        "\n",
        "\"The earthquake caused a major bridge to collapse, cutting off access to the affected area\"\n",
        "\n",
        "\"Many buildings in the city center were severely damaged or destroyed by the earthquake\"\n",
        "\n",
        "Psychological impact: Tweets that discuss the emotional toll of the earthquake on survivors and first responders, such as:\n",
        "\n",
        "\"Trauma from the earthquake can have long-lasting effects on mental health. Make sure to seek support if you need it\"\n",
        "\n",
        "\"The stress and exhaustion of working in earthquake relief can take a toll on first responders. Let's show them our support\"\n",
        "\n",
        "Animal rescue: Tweets that promote or discuss efforts to rescue and care for animals affected by the earthquake, such as:\n",
        "\n",
        "\"Many pets and farm animals have been separated from their owners or injured in the earthquake. Let's support animal rescue organizations\"\n",
        "\n",
        "\"If you're looking for ways to help earthquake victims, consider donating to organizations that are rescuing and caring for animals\""
      ],
      "metadata": {
        "id": "wbX-rV-s-99o"
      }
    },
    {
      "cell_type": "code",
      "source": [
        "# Define the classes and their corresponding keywords\n",
        "classes = {\n",
        "    'Help': ['help', 'assistance', 'support', 'donate'],\n",
        "    'News': ['earthquake', 'magnitude', 'aftershock', 'rescue', 'recovery'],\n",
        "    'Funding': ['fundraiser', 'donation', 'charity', 'fund'],\n",
        "    'Survivor stories': ['survivor', 'personal account', 'experience', 'impact'],\n",
        "    'Volunteering': ['volunteer', 'helping', 'aid', 'support'],\n",
        "    'Political response': ['government', 'political', 'action', 'response'],\n",
        "    'Humanitarian aid': ['humanitarian', 'aid', 'relief', 'support'],\n",
        "    'Casualty reports': ['injury', 'death', 'fatal', 'missing', 'victims'],\n",
        "    'Infrastructure damage': ['building', 'bridge', 'road', 'power', 'water', 'gas', 'telecommunications'],\n",
        "    'Weather conditions': ['storm', 'rain', 'snow', 'wind', 'temperature', 'weather'],\n",
        "    'Emergency services': ['ambulance', 'fire', 'police', 'emergency', 'rescue'],\n",
        "    'Social media activity': ['tweet', 'post', 'share', 'social media'],\n",
        "    'Prayer and condolences': ['prayer', 'thoughts', 'condolences', 'sympathy'],\n",
        "    'Technical information': ['data', 'statistics', 'analysis', 'technical'],\n",
        "    'International aid': ['international', 'donor', 'aid', 'relief'],\n",
        "    'Business impact': ['business', 'economic', 'financial', 'impact'],\n",
        "    'Personal safety': ['safety', 'evacuation', 'shelter', 'protection', 'precaution']\n",
        "}\n",
        "\n",
        "# Define a function to label each tweet based on its content\n",
        "def classify_tweet(tweet_text):\n",
        "    for class_name, keywords in classes.items():\n",
        "        for keyword in keywords:\n",
        "            if keyword in tweet_text:\n",
        "                return class_name\n",
        "    return 'Other'  # If no keyword matches, label as \"Other\"\n",
        "\n",
        "# Add a new column to the dataframe with the class label for each tweet\n",
        "data['Class'] = data['Tweet'].apply(classify_tweet)\n",
        "\n"
      ],
      "metadata": {
        "id": "mIiwlPxV-VSI"
      },
      "execution_count": 162,
      "outputs": []
    },
    {
      "cell_type": "code",
      "source": [
        "data.to_csv('labeled_tweets.csv', index=False)"
      ],
      "metadata": {
        "id": "qMmtZqtqpxaG"
      },
      "execution_count": 163,
      "outputs": []
    },
    {
      "cell_type": "code",
      "source": [
        "data"
      ],
      "metadata": {
        "colab": {
          "base_uri": "https://localhost:8080/",
          "height": 869
        },
        "id": "w2ES5tI8AU51",
        "outputId": "d023ff7d-ad2f-4fe6-e229-d12043b2d5e0"
      },
      "execution_count": 164,
      "outputs": [
        {
          "output_type": "execute_result",
          "data": {
            "text/plain": [
              "                   Tweet_id                 Date  \\\n",
              "0       1644584329463361536  2023-04-08 06:13:53   \n",
              "1       1644584192288735234  2023-04-08 06:13:20   \n",
              "2       1644584189789089792  2023-04-08 06:13:20   \n",
              "3       1644584158218313729  2023-04-08 06:13:12   \n",
              "4       1644583869956648960  2023-04-08 06:12:04   \n",
              "...                     ...                  ...   \n",
              "629855  1626924496086044673  2023-02-18 12:40:01   \n",
              "629856  1626924491417714688  2023-02-18 12:40:00   \n",
              "629857  1626924440469798913  2023-02-18 12:39:48   \n",
              "629858  1626924335331000321  2023-02-18 12:39:22   \n",
              "629859  1626924320554614786  2023-02-18 12:39:19   \n",
              "\n",
              "                                                    Tweet  \\\n",
              "0       date and time utc   am\\nmagnitude  mb\\narea km...   \n",
              "1       earthquake 地震 m strikes  km nw of saitama japa...   \n",
              "2       bergermeister its a mega  massive earthquake g...   \n",
              "3       _teawithtiff lmao nah fr they go hard and need...   \n",
              "4                                              earthquake   \n",
              "...                                                   ...   \n",
              "629855  bbc news  footballer christian atsu found dead...   \n",
              "629856  more than  people have been killed in the eart...   \n",
              "629857  shab_e_meraj\\nkeep remembering in your prayers...   \n",
              "629858  bbc sport\\n\\nfootballer christian atsu has bee...   \n",
              "629859  turkeysyria earthquake live updates death toll...   \n",
              "\n",
              "                     Source Language       User_id  \\\n",
              "0           Twitter Web App       en  1.001341e+18   \n",
              "1       Twitter for Android       en  1.376006e+18   \n",
              "2           Twitter Web App       en  1.510219e+18   \n",
              "3        Twitter for iPhone       en  2.460890e+08   \n",
              "4        Twitter for iPhone       en  7.928967e+17   \n",
              "...                     ...      ...           ...   \n",
              "629855  Twitter for Android       en  3.029408e+09   \n",
              "629856            TweetDeck       en  1.544838e+07   \n",
              "629857      Twitter Web App       en  1.208842e+18   \n",
              "629858  Twitter for Android       en  4.224889e+08   \n",
              "629859          Jetpack.com       en  1.616939e+18   \n",
              "\n",
              "                            Location  \\\n",
              "0                              Egypt   \n",
              "1                             México   \n",
              "2                                NaN   \n",
              "3                                NaN   \n",
              "4                                NaN   \n",
              "...                              ...   \n",
              "629855  Peckham, London, England, UK   \n",
              "629856                   Makati City   \n",
              "629857                           NaN   \n",
              "629858             World Wide Online   \n",
              "629859                           NaN   \n",
              "\n",
              "                                                 Acctdesc  Replies  Retweets  \\\n",
              "0       Gathering and tweeting the most recent earthqu...      0.0       0.0   \n",
              "1       Información al instante, reportes sismicos, no...      0.0       0.0   \n",
              "2                                                     NaN      0.0       0.0   \n",
              "3       Poet 📝 |BLACK AF | RIP MOM & DAD 💔💜✨🙏🏿|Mental ...      0.0       0.0   \n",
              "4                            do my own stunts | thetable.      0.0       0.0   \n",
              "...                                                   ...      ...       ...   \n",
              "629855  PECKHAM TOWN CENTRE NEWS                      ...      0.0       0.0   \n",
              "629856        Balanced News, Fearless Views. inquirer.net      0.0       0.0   \n",
              "629857  Muslim \\nPakistani ÃÂ°ÃÂÃÂÃÂµÃÂ°ÃÂÃÂ...      0.0       2.0   \n",
              "629858  We connect people, to the right people. You wa...      0.0       0.0   \n",
              "629859                                                NaN      0.0       0.0   \n",
              "\n",
              "        Likes                                      Hashtags  Following  \\\n",
              "0         0.0  ['#earthquake', '#USGS', '#CA', '#StaySafe']      160.0   \n",
              "1         0.0  ['#Earthquake', '#地震', '#Saitama', '#Japan']     1432.0   \n",
              "2         0.0                                            []      177.0   \n",
              "3         0.0                                            []     3197.0   \n",
              "4         0.0                                            []      460.0   \n",
              "...       ...                                           ...        ...   \n",
              "629855    1.0                                            []     3270.0   \n",
              "629856    3.0                                            []     1809.0   \n",
              "629857    5.0                             ['#Shab_e_Meraj']      139.0   \n",
              "629858    9.0                                            []     4964.0   \n",
              "629859    0.0                                            []        3.0   \n",
              "\n",
              "        Followers  Total_tweets  \\\n",
              "0            40.0          95.0   \n",
              "1           979.0       60472.0   \n",
              "2           100.0       20299.0   \n",
              "3          4285.0      103515.0   \n",
              "4           528.0       33489.0   \n",
              "...           ...           ...   \n",
              "629855     1128.0       15802.0   \n",
              "629856  3734361.0     1160223.0   \n",
              "629857      223.0        2909.0   \n",
              "629858     3503.0       16643.0   \n",
              "629859        7.0       14655.0   \n",
              "\n",
              "                                                      Url  Target  \\\n",
              "0       https://twitter.com/Iwillsolo/status/164458432...    True   \n",
              "1       https://twitter.com/Edgaroficial02/status/1644...    True   \n",
              "2       https://twitter.com/TUAtwit/status/16445841897...    True   \n",
              "3       https://twitter.com/EarthQuake_HK15/status/164...   False   \n",
              "4       https://twitter.com/itsblanc0baby/status/16445...    True   \n",
              "...                                                   ...     ...   \n",
              "629855  https://twitter.com/PeckhamBusiness/status/162...    True   \n",
              "629856  https://twitter.com/inquirerdotnet/status/1626...    True   \n",
              "629857  https://twitter.com/Lea_dot12/status/162692444...    True   \n",
              "629858  https://twitter.com/ConnectZM/status/162692433...    True   \n",
              "629859  https://twitter.com/ZainRyan5/status/162692432...    True   \n",
              "\n",
              "               Username                  Class  \n",
              "0                   NaN                   News  \n",
              "1                   NaN                   News  \n",
              "2                   NaN                   News  \n",
              "3                   NaN  Social media activity  \n",
              "4                   NaN                   News  \n",
              "...                 ...                    ...  \n",
              "629855  PeckhamBusiness                   News  \n",
              "629856   inquirerdotnet                   News  \n",
              "629857        Lea_dot12                   News  \n",
              "629858        ConnectZM                   News  \n",
              "629859        ZainRyan5                   News  \n",
              "\n",
              "[629860 rows x 19 columns]"
            ],
            "text/html": [
              "\n",
              "  <div id=\"df-486f6701-af9a-4bea-9914-420426cd2a00\">\n",
              "    <div class=\"colab-df-container\">\n",
              "      <div>\n",
              "<style scoped>\n",
              "    .dataframe tbody tr th:only-of-type {\n",
              "        vertical-align: middle;\n",
              "    }\n",
              "\n",
              "    .dataframe tbody tr th {\n",
              "        vertical-align: top;\n",
              "    }\n",
              "\n",
              "    .dataframe thead th {\n",
              "        text-align: right;\n",
              "    }\n",
              "</style>\n",
              "<table border=\"1\" class=\"dataframe\">\n",
              "  <thead>\n",
              "    <tr style=\"text-align: right;\">\n",
              "      <th></th>\n",
              "      <th>Tweet_id</th>\n",
              "      <th>Date</th>\n",
              "      <th>Tweet</th>\n",
              "      <th>Source</th>\n",
              "      <th>Language</th>\n",
              "      <th>User_id</th>\n",
              "      <th>Location</th>\n",
              "      <th>Acctdesc</th>\n",
              "      <th>Replies</th>\n",
              "      <th>Retweets</th>\n",
              "      <th>Likes</th>\n",
              "      <th>Hashtags</th>\n",
              "      <th>Following</th>\n",
              "      <th>Followers</th>\n",
              "      <th>Total_tweets</th>\n",
              "      <th>Url</th>\n",
              "      <th>Target</th>\n",
              "      <th>Username</th>\n",
              "      <th>Class</th>\n",
              "    </tr>\n",
              "  </thead>\n",
              "  <tbody>\n",
              "    <tr>\n",
              "      <th>0</th>\n",
              "      <td>1644584329463361536</td>\n",
              "      <td>2023-04-08 06:13:53</td>\n",
              "      <td>date and time utc   am\\nmagnitude  mb\\narea km...</td>\n",
              "      <td>Twitter Web App</td>\n",
              "      <td>en</td>\n",
              "      <td>1.001341e+18</td>\n",
              "      <td>Egypt</td>\n",
              "      <td>Gathering and tweeting the most recent earthqu...</td>\n",
              "      <td>0.0</td>\n",
              "      <td>0.0</td>\n",
              "      <td>0.0</td>\n",
              "      <td>['#earthquake', '#USGS', '#CA', '#StaySafe']</td>\n",
              "      <td>160.0</td>\n",
              "      <td>40.0</td>\n",
              "      <td>95.0</td>\n",
              "      <td>https://twitter.com/Iwillsolo/status/164458432...</td>\n",
              "      <td>True</td>\n",
              "      <td>NaN</td>\n",
              "      <td>News</td>\n",
              "    </tr>\n",
              "    <tr>\n",
              "      <th>1</th>\n",
              "      <td>1644584192288735234</td>\n",
              "      <td>2023-04-08 06:13:20</td>\n",
              "      <td>earthquake 地震 m strikes  km nw of saitama japa...</td>\n",
              "      <td>Twitter for Android</td>\n",
              "      <td>en</td>\n",
              "      <td>1.376006e+18</td>\n",
              "      <td>México</td>\n",
              "      <td>Información al instante, reportes sismicos, no...</td>\n",
              "      <td>0.0</td>\n",
              "      <td>0.0</td>\n",
              "      <td>0.0</td>\n",
              "      <td>['#Earthquake', '#地震', '#Saitama', '#Japan']</td>\n",
              "      <td>1432.0</td>\n",
              "      <td>979.0</td>\n",
              "      <td>60472.0</td>\n",
              "      <td>https://twitter.com/Edgaroficial02/status/1644...</td>\n",
              "      <td>True</td>\n",
              "      <td>NaN</td>\n",
              "      <td>News</td>\n",
              "    </tr>\n",
              "    <tr>\n",
              "      <th>2</th>\n",
              "      <td>1644584189789089792</td>\n",
              "      <td>2023-04-08 06:13:20</td>\n",
              "      <td>bergermeister its a mega  massive earthquake g...</td>\n",
              "      <td>Twitter Web App</td>\n",
              "      <td>en</td>\n",
              "      <td>1.510219e+18</td>\n",
              "      <td>NaN</td>\n",
              "      <td>NaN</td>\n",
              "      <td>0.0</td>\n",
              "      <td>0.0</td>\n",
              "      <td>0.0</td>\n",
              "      <td>[]</td>\n",
              "      <td>177.0</td>\n",
              "      <td>100.0</td>\n",
              "      <td>20299.0</td>\n",
              "      <td>https://twitter.com/TUAtwit/status/16445841897...</td>\n",
              "      <td>True</td>\n",
              "      <td>NaN</td>\n",
              "      <td>News</td>\n",
              "    </tr>\n",
              "    <tr>\n",
              "      <th>3</th>\n",
              "      <td>1644584158218313729</td>\n",
              "      <td>2023-04-08 06:13:12</td>\n",
              "      <td>_teawithtiff lmao nah fr they go hard and need...</td>\n",
              "      <td>Twitter for iPhone</td>\n",
              "      <td>en</td>\n",
              "      <td>2.460890e+08</td>\n",
              "      <td>NaN</td>\n",
              "      <td>Poet 📝 |BLACK AF | RIP MOM &amp; DAD 💔💜✨🙏🏿|Mental ...</td>\n",
              "      <td>0.0</td>\n",
              "      <td>0.0</td>\n",
              "      <td>0.0</td>\n",
              "      <td>[]</td>\n",
              "      <td>3197.0</td>\n",
              "      <td>4285.0</td>\n",
              "      <td>103515.0</td>\n",
              "      <td>https://twitter.com/EarthQuake_HK15/status/164...</td>\n",
              "      <td>False</td>\n",
              "      <td>NaN</td>\n",
              "      <td>Social media activity</td>\n",
              "    </tr>\n",
              "    <tr>\n",
              "      <th>4</th>\n",
              "      <td>1644583869956648960</td>\n",
              "      <td>2023-04-08 06:12:04</td>\n",
              "      <td>earthquake</td>\n",
              "      <td>Twitter for iPhone</td>\n",
              "      <td>en</td>\n",
              "      <td>7.928967e+17</td>\n",
              "      <td>NaN</td>\n",
              "      <td>do my own stunts | thetable.</td>\n",
              "      <td>0.0</td>\n",
              "      <td>0.0</td>\n",
              "      <td>0.0</td>\n",
              "      <td>[]</td>\n",
              "      <td>460.0</td>\n",
              "      <td>528.0</td>\n",
              "      <td>33489.0</td>\n",
              "      <td>https://twitter.com/itsblanc0baby/status/16445...</td>\n",
              "      <td>True</td>\n",
              "      <td>NaN</td>\n",
              "      <td>News</td>\n",
              "    </tr>\n",
              "    <tr>\n",
              "      <th>...</th>\n",
              "      <td>...</td>\n",
              "      <td>...</td>\n",
              "      <td>...</td>\n",
              "      <td>...</td>\n",
              "      <td>...</td>\n",
              "      <td>...</td>\n",
              "      <td>...</td>\n",
              "      <td>...</td>\n",
              "      <td>...</td>\n",
              "      <td>...</td>\n",
              "      <td>...</td>\n",
              "      <td>...</td>\n",
              "      <td>...</td>\n",
              "      <td>...</td>\n",
              "      <td>...</td>\n",
              "      <td>...</td>\n",
              "      <td>...</td>\n",
              "      <td>...</td>\n",
              "      <td>...</td>\n",
              "    </tr>\n",
              "    <tr>\n",
              "      <th>629855</th>\n",
              "      <td>1626924496086044673</td>\n",
              "      <td>2023-02-18 12:40:01</td>\n",
              "      <td>bbc news  footballer christian atsu found dead...</td>\n",
              "      <td>Twitter for Android</td>\n",
              "      <td>en</td>\n",
              "      <td>3.029408e+09</td>\n",
              "      <td>Peckham, London, England, UK</td>\n",
              "      <td>PECKHAM TOWN CENTRE NEWS                      ...</td>\n",
              "      <td>0.0</td>\n",
              "      <td>0.0</td>\n",
              "      <td>1.0</td>\n",
              "      <td>[]</td>\n",
              "      <td>3270.0</td>\n",
              "      <td>1128.0</td>\n",
              "      <td>15802.0</td>\n",
              "      <td>https://twitter.com/PeckhamBusiness/status/162...</td>\n",
              "      <td>True</td>\n",
              "      <td>PeckhamBusiness</td>\n",
              "      <td>News</td>\n",
              "    </tr>\n",
              "    <tr>\n",
              "      <th>629856</th>\n",
              "      <td>1626924491417714688</td>\n",
              "      <td>2023-02-18 12:40:00</td>\n",
              "      <td>more than  people have been killed in the eart...</td>\n",
              "      <td>TweetDeck</td>\n",
              "      <td>en</td>\n",
              "      <td>1.544838e+07</td>\n",
              "      <td>Makati City</td>\n",
              "      <td>Balanced News, Fearless Views. inquirer.net</td>\n",
              "      <td>0.0</td>\n",
              "      <td>0.0</td>\n",
              "      <td>3.0</td>\n",
              "      <td>[]</td>\n",
              "      <td>1809.0</td>\n",
              "      <td>3734361.0</td>\n",
              "      <td>1160223.0</td>\n",
              "      <td>https://twitter.com/inquirerdotnet/status/1626...</td>\n",
              "      <td>True</td>\n",
              "      <td>inquirerdotnet</td>\n",
              "      <td>News</td>\n",
              "    </tr>\n",
              "    <tr>\n",
              "      <th>629857</th>\n",
              "      <td>1626924440469798913</td>\n",
              "      <td>2023-02-18 12:39:48</td>\n",
              "      <td>shab_e_meraj\\nkeep remembering in your prayers...</td>\n",
              "      <td>Twitter Web App</td>\n",
              "      <td>en</td>\n",
              "      <td>1.208842e+18</td>\n",
              "      <td>NaN</td>\n",
              "      <td>Muslim \\nPakistani ÃÂ°ÃÂÃÂÃÂµÃÂ°ÃÂÃÂ...</td>\n",
              "      <td>0.0</td>\n",
              "      <td>2.0</td>\n",
              "      <td>5.0</td>\n",
              "      <td>['#Shab_e_Meraj']</td>\n",
              "      <td>139.0</td>\n",
              "      <td>223.0</td>\n",
              "      <td>2909.0</td>\n",
              "      <td>https://twitter.com/Lea_dot12/status/162692444...</td>\n",
              "      <td>True</td>\n",
              "      <td>Lea_dot12</td>\n",
              "      <td>News</td>\n",
              "    </tr>\n",
              "    <tr>\n",
              "      <th>629858</th>\n",
              "      <td>1626924335331000321</td>\n",
              "      <td>2023-02-18 12:39:22</td>\n",
              "      <td>bbc sport\\n\\nfootballer christian atsu has bee...</td>\n",
              "      <td>Twitter for Android</td>\n",
              "      <td>en</td>\n",
              "      <td>4.224889e+08</td>\n",
              "      <td>World Wide Online</td>\n",
              "      <td>We connect people, to the right people. You wa...</td>\n",
              "      <td>0.0</td>\n",
              "      <td>0.0</td>\n",
              "      <td>9.0</td>\n",
              "      <td>[]</td>\n",
              "      <td>4964.0</td>\n",
              "      <td>3503.0</td>\n",
              "      <td>16643.0</td>\n",
              "      <td>https://twitter.com/ConnectZM/status/162692433...</td>\n",
              "      <td>True</td>\n",
              "      <td>ConnectZM</td>\n",
              "      <td>News</td>\n",
              "    </tr>\n",
              "    <tr>\n",
              "      <th>629859</th>\n",
              "      <td>1626924320554614786</td>\n",
              "      <td>2023-02-18 12:39:19</td>\n",
              "      <td>turkeysyria earthquake live updates death toll...</td>\n",
              "      <td>Jetpack.com</td>\n",
              "      <td>en</td>\n",
              "      <td>1.616939e+18</td>\n",
              "      <td>NaN</td>\n",
              "      <td>NaN</td>\n",
              "      <td>0.0</td>\n",
              "      <td>0.0</td>\n",
              "      <td>0.0</td>\n",
              "      <td>[]</td>\n",
              "      <td>3.0</td>\n",
              "      <td>7.0</td>\n",
              "      <td>14655.0</td>\n",
              "      <td>https://twitter.com/ZainRyan5/status/162692432...</td>\n",
              "      <td>True</td>\n",
              "      <td>ZainRyan5</td>\n",
              "      <td>News</td>\n",
              "    </tr>\n",
              "  </tbody>\n",
              "</table>\n",
              "<p>629860 rows × 19 columns</p>\n",
              "</div>\n",
              "      <button class=\"colab-df-convert\" onclick=\"convertToInteractive('df-486f6701-af9a-4bea-9914-420426cd2a00')\"\n",
              "              title=\"Convert this dataframe to an interactive table.\"\n",
              "              style=\"display:none;\">\n",
              "        \n",
              "  <svg xmlns=\"http://www.w3.org/2000/svg\" height=\"24px\"viewBox=\"0 0 24 24\"\n",
              "       width=\"24px\">\n",
              "    <path d=\"M0 0h24v24H0V0z\" fill=\"none\"/>\n",
              "    <path d=\"M18.56 5.44l.94 2.06.94-2.06 2.06-.94-2.06-.94-.94-2.06-.94 2.06-2.06.94zm-11 1L8.5 8.5l.94-2.06 2.06-.94-2.06-.94L8.5 2.5l-.94 2.06-2.06.94zm10 10l.94 2.06.94-2.06 2.06-.94-2.06-.94-.94-2.06-.94 2.06-2.06.94z\"/><path d=\"M17.41 7.96l-1.37-1.37c-.4-.4-.92-.59-1.43-.59-.52 0-1.04.2-1.43.59L10.3 9.45l-7.72 7.72c-.78.78-.78 2.05 0 2.83L4 21.41c.39.39.9.59 1.41.59.51 0 1.02-.2 1.41-.59l7.78-7.78 2.81-2.81c.8-.78.8-2.07 0-2.86zM5.41 20L4 18.59l7.72-7.72 1.47 1.35L5.41 20z\"/>\n",
              "  </svg>\n",
              "      </button>\n",
              "      \n",
              "  <style>\n",
              "    .colab-df-container {\n",
              "      display:flex;\n",
              "      flex-wrap:wrap;\n",
              "      gap: 12px;\n",
              "    }\n",
              "\n",
              "    .colab-df-convert {\n",
              "      background-color: #E8F0FE;\n",
              "      border: none;\n",
              "      border-radius: 50%;\n",
              "      cursor: pointer;\n",
              "      display: none;\n",
              "      fill: #1967D2;\n",
              "      height: 32px;\n",
              "      padding: 0 0 0 0;\n",
              "      width: 32px;\n",
              "    }\n",
              "\n",
              "    .colab-df-convert:hover {\n",
              "      background-color: #E2EBFA;\n",
              "      box-shadow: 0px 1px 2px rgba(60, 64, 67, 0.3), 0px 1px 3px 1px rgba(60, 64, 67, 0.15);\n",
              "      fill: #174EA6;\n",
              "    }\n",
              "\n",
              "    [theme=dark] .colab-df-convert {\n",
              "      background-color: #3B4455;\n",
              "      fill: #D2E3FC;\n",
              "    }\n",
              "\n",
              "    [theme=dark] .colab-df-convert:hover {\n",
              "      background-color: #434B5C;\n",
              "      box-shadow: 0px 1px 3px 1px rgba(0, 0, 0, 0.15);\n",
              "      filter: drop-shadow(0px 1px 2px rgba(0, 0, 0, 0.3));\n",
              "      fill: #FFFFFF;\n",
              "    }\n",
              "  </style>\n",
              "\n",
              "      <script>\n",
              "        const buttonEl =\n",
              "          document.querySelector('#df-486f6701-af9a-4bea-9914-420426cd2a00 button.colab-df-convert');\n",
              "        buttonEl.style.display =\n",
              "          google.colab.kernel.accessAllowed ? 'block' : 'none';\n",
              "\n",
              "        async function convertToInteractive(key) {\n",
              "          const element = document.querySelector('#df-486f6701-af9a-4bea-9914-420426cd2a00');\n",
              "          const dataTable =\n",
              "            await google.colab.kernel.invokeFunction('convertToInteractive',\n",
              "                                                     [key], {});\n",
              "          if (!dataTable) return;\n",
              "\n",
              "          const docLinkHtml = 'Like what you see? Visit the ' +\n",
              "            '<a target=\"_blank\" href=https://colab.research.google.com/notebooks/data_table.ipynb>data table notebook</a>'\n",
              "            + ' to learn more about interactive tables.';\n",
              "          element.innerHTML = '';\n",
              "          dataTable['output_type'] = 'display_data';\n",
              "          await google.colab.output.renderOutput(dataTable, element);\n",
              "          const docLink = document.createElement('div');\n",
              "          docLink.innerHTML = docLinkHtml;\n",
              "          element.appendChild(docLink);\n",
              "        }\n",
              "      </script>\n",
              "    </div>\n",
              "  </div>\n",
              "  "
            ]
          },
          "metadata": {},
          "execution_count": 164
        }
      ]
    },
    {
      "cell_type": "markdown",
      "source": [
        "Creating a bar plot of the class distribution"
      ],
      "metadata": {
        "id": "fd_A61bKBgFu"
      }
    },
    {
      "cell_type": "code",
      "source": [
        "\n",
        "plt.figure(figsize=(10, 6))\n",
        "class_counts = data['Class'].value_counts()\n",
        "class_counts.plot(kind='bar')\n",
        "plt.title('Class Distribution of Tweet Data')\n",
        "plt.xlabel('Class')\n",
        "plt.ylabel('Number of Tweets')\n",
        "plt.show()\n"
      ],
      "metadata": {
        "colab": {
          "base_uri": "https://localhost:8080/",
          "height": 699
        },
        "id": "mHK0tlOWAXKE",
        "outputId": "b4092c33-0699-4be4-e696-6e48134c4cf3"
      },
      "execution_count": 165,
      "outputs": [
        {
          "output_type": "display_data",
          "data": {
            "text/plain": [
              "<Figure size 1000x600 with 1 Axes>"
            ],
            "image/png": "[encoded data removed]"
          },
          "metadata": {}
        }
      ]
    },
    {
      "cell_type": "code",
      "source": [
        "data.columns"
      ],
      "metadata": {
        "colab": {
          "base_uri": "https://localhost:8080/"
        },
        "id": "_oBtMdC2AdxB",
        "outputId": "96c71bb1-66a2-41eb-e0df-edd870cd0d2d"
      },
      "execution_count": 166,
      "outputs": [
        {
          "output_type": "execute_result",
          "data": {
            "text/plain": [
              "Index(['Tweet_id', 'Date', 'Tweet', 'Source', 'Language', 'User_id',\n",
              "       'Location', 'Acctdesc', 'Replies', 'Retweets', 'Likes', 'Hashtags',\n",
              "       'Following', 'Followers', 'Total_tweets', 'Url', 'Target', 'Username',\n",
              "       'Class'],\n",
              "      dtype='object')"
            ]
          },
          "metadata": {},
          "execution_count": 166
        }
      ]
    },
    {
      "cell_type": "code",
      "source": [
        "data['Tweet'].isna().sum()"
      ],
      "metadata": {
        "colab": {
          "base_uri": "https://localhost:8080/"
        },
        "id": "ocrS6zY4A3Pc",
        "outputId": "fb6bd4ab-4fe8-4863-d40b-63f062b0ea97"
      },
      "execution_count": 167,
      "outputs": [
        {
          "output_type": "execute_result",
          "data": {
            "text/plain": [
              "0"
            ]
          },
          "metadata": {},
          "execution_count": 167
        }
      ]
    },
    {
      "cell_type": "code",
      "source": [
        "data.shape"
      ],
      "metadata": {
        "colab": {
          "base_uri": "https://localhost:8080/"
        },
        "id": "BbHrdPxXte3s",
        "outputId": "120fd5a3-fdc1-4d79-a515-4eac784f7b1e"
      },
      "execution_count": 168,
      "outputs": [
        {
          "output_type": "execute_result",
          "data": {
            "text/plain": [
              "(629860, 19)"
            ]
          },
          "metadata": {},
          "execution_count": 168
        }
      ]
    },
    {
      "cell_type": "code",
      "source": [
        "data.dropna(axis = 1, inplace = True)"
      ],
      "metadata": {
        "id": "7lOw7vdnBC18"
      },
      "execution_count": 169,
      "outputs": []
    },
    {
      "cell_type": "code",
      "source": [
        "from sklearn.feature_extraction.text import TfidfVectorizer\n",
        "\n",
        "vectorizer = TfidfVectorizer()\n",
        "X = vectorizer.fit_transform(data['Tweet'])\n",
        "y = data['Class']"
      ],
      "metadata": {
        "id": "QRcndGXWBF84"
      },
      "execution_count": 170,
      "outputs": []
    },
    {
      "cell_type": "code",
      "source": [],
      "metadata": {
        "id": "Wn6giUtFtiBa"
      },
      "execution_count": 170,
      "outputs": []
    },
    {
      "cell_type": "markdown",
      "source": [
        "Simple Prediction of Classes"
      ],
      "metadata": {
        "id": "Pju-YpLYBcSN"
      }
    },
    {
      "cell_type": "code",
      "source": [
        "\n",
        "# Sample input tweet\n",
        "input_tweet = \"Prayers and thoughts for everyone affected by the #earthquake that just hit our city. Stay safe and seek shelter if necessary.\" #naturaldisaster #safetyfirst\n",
        "\n",
        "# Classify the tweet\n",
        "predicted_class = classify_tweet(input_tweet)\n",
        "\n",
        "# Print the predicted class\n",
        "print('Predicted class:', predicted_class)"
      ],
      "metadata": {
        "colab": {
          "base_uri": "https://localhost:8080/"
        },
        "id": "SbRIRdGFBJyv",
        "outputId": "c9372b94-5f49-4be7-eb0b-d08304314f78"
      },
      "execution_count": 171,
      "outputs": [
        {
          "output_type": "stream",
          "name": "stdout",
          "text": [
            "Predicted class: News\n"
          ]
        }
      ]
    },
    {
      "cell_type": "code",
      "source": [
        "data "
      ],
      "metadata": {
        "colab": {
          "base_uri": "https://localhost:8080/",
          "height": 423
        },
        "id": "we76eAbvd3Nm",
        "outputId": "6d3ba744-c04d-449f-eddf-016e52d39f2d"
      },
      "execution_count": 172,
      "outputs": [
        {
          "output_type": "execute_result",
          "data": {
            "text/plain": [
              "                                                    Tweet  Target  \\\n",
              "0       date and time utc   am\\nmagnitude  mb\\narea km...    True   \n",
              "1       earthquake 地震 m strikes  km nw of saitama japa...    True   \n",
              "2       bergermeister its a mega  massive earthquake g...    True   \n",
              "3       _teawithtiff lmao nah fr they go hard and need...   False   \n",
              "4                                              earthquake    True   \n",
              "...                                                   ...     ...   \n",
              "629855  bbc news  footballer christian atsu found dead...    True   \n",
              "629856  more than  people have been killed in the eart...    True   \n",
              "629857  shab_e_meraj\\nkeep remembering in your prayers...    True   \n",
              "629858  bbc sport\\n\\nfootballer christian atsu has bee...    True   \n",
              "629859  turkeysyria earthquake live updates death toll...    True   \n",
              "\n",
              "                        Class  \n",
              "0                        News  \n",
              "1                        News  \n",
              "2                        News  \n",
              "3       Social media activity  \n",
              "4                        News  \n",
              "...                       ...  \n",
              "629855                   News  \n",
              "629856                   News  \n",
              "629857                   News  \n",
              "629858                   News  \n",
              "629859                   News  \n",
              "\n",
              "[629860 rows x 3 columns]"
            ],
            "text/html": [
              "\n",
              "  <div id=\"df-6545e421-ec00-4ae6-beba-e98ac2bac0c7\">\n",
              "    <div class=\"colab-df-container\">\n",
              "      <div>\n",
              "<style scoped>\n",
              "    .dataframe tbody tr th:only-of-type {\n",
              "        vertical-align: middle;\n",
              "    }\n",
              "\n",
              "    .dataframe tbody tr th {\n",
              "        vertical-align: top;\n",
              "    }\n",
              "\n",
              "    .dataframe thead th {\n",
              "        text-align: right;\n",
              "    }\n",
              "</style>\n",
              "<table border=\"1\" class=\"dataframe\">\n",
              "  <thead>\n",
              "    <tr style=\"text-align: right;\">\n",
              "      <th></th>\n",
              "      <th>Tweet</th>\n",
              "      <th>Target</th>\n",
              "      <th>Class</th>\n",
              "    </tr>\n",
              "  </thead>\n",
              "  <tbody>\n",
              "    <tr>\n",
              "      <th>0</th>\n",
              "      <td>date and time utc   am\\nmagnitude  mb\\narea km...</td>\n",
              "      <td>True</td>\n",
              "      <td>News</td>\n",
              "    </tr>\n",
              "    <tr>\n",
              "      <th>1</th>\n",
              "      <td>earthquake 地震 m strikes  km nw of saitama japa...</td>\n",
              "      <td>True</td>\n",
              "      <td>News</td>\n",
              "    </tr>\n",
              "    <tr>\n",
              "      <th>2</th>\n",
              "      <td>bergermeister its a mega  massive earthquake g...</td>\n",
              "      <td>True</td>\n",
              "      <td>News</td>\n",
              "    </tr>\n",
              "    <tr>\n",
              "      <th>3</th>\n",
              "      <td>_teawithtiff lmao nah fr they go hard and need...</td>\n",
              "      <td>False</td>\n",
              "      <td>Social media activity</td>\n",
              "    </tr>\n",
              "    <tr>\n",
              "      <th>4</th>\n",
              "      <td>earthquake</td>\n",
              "      <td>True</td>\n",
              "      <td>News</td>\n",
              "    </tr>\n",
              "    <tr>\n",
              "      <th>...</th>\n",
              "      <td>...</td>\n",
              "      <td>...</td>\n",
              "      <td>...</td>\n",
              "    </tr>\n",
              "    <tr>\n",
              "      <th>629855</th>\n",
              "      <td>bbc news  footballer christian atsu found dead...</td>\n",
              "      <td>True</td>\n",
              "      <td>News</td>\n",
              "    </tr>\n",
              "    <tr>\n",
              "      <th>629856</th>\n",
              "      <td>more than  people have been killed in the eart...</td>\n",
              "      <td>True</td>\n",
              "      <td>News</td>\n",
              "    </tr>\n",
              "    <tr>\n",
              "      <th>629857</th>\n",
              "      <td>shab_e_meraj\\nkeep remembering in your prayers...</td>\n",
              "      <td>True</td>\n",
              "      <td>News</td>\n",
              "    </tr>\n",
              "    <tr>\n",
              "      <th>629858</th>\n",
              "      <td>bbc sport\\n\\nfootballer christian atsu has bee...</td>\n",
              "      <td>True</td>\n",
              "      <td>News</td>\n",
              "    </tr>\n",
              "    <tr>\n",
              "      <th>629859</th>\n",
              "      <td>turkeysyria earthquake live updates death toll...</td>\n",
              "      <td>True</td>\n",
              "      <td>News</td>\n",
              "    </tr>\n",
              "  </tbody>\n",
              "</table>\n",
              "<p>629860 rows × 3 columns</p>\n",
              "</div>\n",
              "      <button class=\"colab-df-convert\" onclick=\"convertToInteractive('df-6545e421-ec00-4ae6-beba-e98ac2bac0c7')\"\n",
              "              title=\"Convert this dataframe to an interactive table.\"\n",
              "              style=\"display:none;\">\n",
              "        \n",
              "  <svg xmlns=\"http://www.w3.org/2000/svg\" height=\"24px\"viewBox=\"0 0 24 24\"\n",
              "       width=\"24px\">\n",
              "    <path d=\"M0 0h24v24H0V0z\" fill=\"none\"/>\n",
              "    <path d=\"M18.56 5.44l.94 2.06.94-2.06 2.06-.94-2.06-.94-.94-2.06-.94 2.06-2.06.94zm-11 1L8.5 8.5l.94-2.06 2.06-.94-2.06-.94L8.5 2.5l-.94 2.06-2.06.94zm10 10l.94 2.06.94-2.06 2.06-.94-2.06-.94-.94-2.06-.94 2.06-2.06.94z\"/><path d=\"M17.41 7.96l-1.37-1.37c-.4-.4-.92-.59-1.43-.59-.52 0-1.04.2-1.43.59L10.3 9.45l-7.72 7.72c-.78.78-.78 2.05 0 2.83L4 21.41c.39.39.9.59 1.41.59.51 0 1.02-.2 1.41-.59l7.78-7.78 2.81-2.81c.8-.78.8-2.07 0-2.86zM5.41 20L4 18.59l7.72-7.72 1.47 1.35L5.41 20z\"/>\n",
              "  </svg>\n",
              "      </button>\n",
              "      \n",
              "  <style>\n",
              "    .colab-df-container {\n",
              "      display:flex;\n",
              "      flex-wrap:wrap;\n",
              "      gap: 12px;\n",
              "    }\n",
              "\n",
              "    .colab-df-convert {\n",
              "      background-color: #E8F0FE;\n",
              "      border: none;\n",
              "      border-radius: 50%;\n",
              "      cursor: pointer;\n",
              "      display: none;\n",
              "      fill: #1967D2;\n",
              "      height: 32px;\n",
              "      padding: 0 0 0 0;\n",
              "      width: 32px;\n",
              "    }\n",
              "\n",
              "    .colab-df-convert:hover {\n",
              "      background-color: #E2EBFA;\n",
              "      box-shadow: 0px 1px 2px rgba(60, 64, 67, 0.3), 0px 1px 3px 1px rgba(60, 64, 67, 0.15);\n",
              "      fill: #174EA6;\n",
              "    }\n",
              "\n",
              "    [theme=dark] .colab-df-convert {\n",
              "      background-color: #3B4455;\n",
              "      fill: #D2E3FC;\n",
              "    }\n",
              "\n",
              "    [theme=dark] .colab-df-convert:hover {\n",
              "      background-color: #434B5C;\n",
              "      box-shadow: 0px 1px 3px 1px rgba(0, 0, 0, 0.15);\n",
              "      filter: drop-shadow(0px 1px 2px rgba(0, 0, 0, 0.3));\n",
              "      fill: #FFFFFF;\n",
              "    }\n",
              "  </style>\n",
              "\n",
              "      <script>\n",
              "        const buttonEl =\n",
              "          document.querySelector('#df-6545e421-ec00-4ae6-beba-e98ac2bac0c7 button.colab-df-convert');\n",
              "        buttonEl.style.display =\n",
              "          google.colab.kernel.accessAllowed ? 'block' : 'none';\n",
              "\n",
              "        async function convertToInteractive(key) {\n",
              "          const element = document.querySelector('#df-6545e421-ec00-4ae6-beba-e98ac2bac0c7');\n",
              "          const dataTable =\n",
              "            await google.colab.kernel.invokeFunction('convertToInteractive',\n",
              "                                                     [key], {});\n",
              "          if (!dataTable) return;\n",
              "\n",
              "          const docLinkHtml = 'Like what you see? Visit the ' +\n",
              "            '<a target=\"_blank\" href=https://colab.research.google.com/notebooks/data_table.ipynb>data table notebook</a>'\n",
              "            + ' to learn more about interactive tables.';\n",
              "          element.innerHTML = '';\n",
              "          dataTable['output_type'] = 'display_data';\n",
              "          await google.colab.output.renderOutput(dataTable, element);\n",
              "          const docLink = document.createElement('div');\n",
              "          docLink.innerHTML = docLinkHtml;\n",
              "          element.appendChild(docLink);\n",
              "        }\n",
              "      </script>\n",
              "    </div>\n",
              "  </div>\n",
              "  "
            ]
          },
          "metadata": {},
          "execution_count": 172
        }
      ]
    },
    {
      "cell_type": "code",
      "source": [
        "data.to_csv('tweet_data_labeled2.csv')"
      ],
      "metadata": {
        "id": "cE3CFbNqfNrB"
      },
      "execution_count": 173,
      "outputs": []
    }
  ]
}